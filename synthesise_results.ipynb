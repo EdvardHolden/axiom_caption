{
 "cells": [
  {
   "cell_type": "code",
   "execution_count": 2,
   "id": "3fa296c2",
   "metadata": {},
   "outputs": [],
   "source": [
    "import pandas as pd\n",
    "from synthesise_results import *\n",
    "import numpy as np\n",
    "import itertools"
   ]
  },
  {
   "cell_type": "code",
   "execution_count": 3,
   "id": "7282bd9b",
   "metadata": {},
   "outputs": [
    {
     "name": "stdout",
     "output_type": "stream",
     "text": [
      "attention_remove_unknown_dropout      learning_rate\r\n",
      "attention_remove_unknown_hyperparams  model_size\r\n",
      "axiom_order\t\t\t      model_type\r\n",
      "base_model\t\t\t      model_type_2\r\n",
      "base_test\t\t\t      model_type_2_remove_unknown\r\n",
      "base_test_dense\t\t\t      results.md\r\n",
      "deepmath_embedding\t\t      stateful_type\r\n",
      "embeddings\t\t\t      test\r\n",
      "experiment_1\t\t\t      test_attention\r\n",
      "experiment_2A_remove_unknown\t      test_flickr_params\r\n",
      "experiment_2B_remove_unknown\t      test_flickr_vgg\r\n",
      "graph_embeddings\t\t      test_stateful\r\n",
      "hyperparam\t\t\t      unknown\r\n"
     ]
    }
   ],
   "source": [
    "!ls experiments"
   ]
  },
  {
   "cell_type": "code",
   "execution_count": 4,
   "id": "3216207a",
   "metadata": {},
   "outputs": [],
   "source": [
    "#RESULTS_DIR = 'experiments/graph_embeddings'\n",
    "#RESULTS_DIR = 'experiments/lr_model'\n",
    "#RESULTS_DIR = 'experiments/hyperparam/initial/'\n",
    "#RESULTS_DIR = 'experiments/axiom_order/'\n",
    "#RESULTS_DIR = 'experiments/hyperparam/lstm_preprocessing'\n",
    "#RESULTS_DIR = 'experiments/model_size/'\n",
    "#RESULTS_DIR = 'experiments/model_type_2/'\n",
    "#RESULTS_DIR = 'experiments/attention_remove_unknown_hyperparams/'\n",
    "#RESULTS_DIR = 'experiments/attention_remove_unknown_dropout/'\n",
    "#RESULTS_DIR = 'experiments/stateful_type/'\n",
    "#RESULTS_DIR = 'experiments/experiment_1/'\n",
    "#RESULTS_DIR = 'experiments/experiment_2A_remove_unknown'\n",
    "#RESULTS_DIR = 'experiments/experiment_2B_remove_unknown'\n",
    "#RESULTS_DIR = \"experiments/test_flickr_params\"\n",
    "RESULTS_DIR = \"experiments/test_flickr_vgg\""
   ]
  },
  {
   "cell_type": "code",
   "execution_count": 5,
   "id": "b8676b35",
   "metadata": {},
   "outputs": [],
   "source": [
    "\n",
    "types = ['train', 'test', 'val']\n",
    "max_tags = ['jaccard', 'coverage']\n",
    "min_tags = ['loss']"
   ]
  },
  {
   "cell_type": "code",
   "execution_count": 6,
   "id": "bee6a813",
   "metadata": {},
   "outputs": [],
   "source": [
    "def highlight_max(x):\n",
    "    return np.where(x == np.nanmax(x.to_numpy()), f\"font-weight: bold;\", None)\n",
    "\n",
    "def highlight_min(x):\n",
    "    return np.where(x == np.nanmin(x.to_numpy()), f\"font-weight: bold;\", None)\n",
    "\n",
    "def markdown_highlight(df):\n",
    "\n",
    "    # Apply min and max highlights\n",
    "    s = df.style.apply(highlight_max, subset=max_columns, axis=0)\n",
    "    s = s.apply(highlight_min, subset=min_columns, axis=0)\n",
    "    \n",
    "    return s\n",
    "\n",
    "def create_df():\n",
    "    metrics = dict()\n",
    "    aggregate_metrics(RESULTS_DIR, metrics)\n",
    "    headers = metrics[list(metrics.keys())[0]].keys()\n",
    "    table = [[subdir] + [values[h] for h in headers] for subdir, values in metrics.items()]\n",
    "    # Create df of the data\n",
    "    df = pd.DataFrame(table, columns=['config'] + list(headers)).set_index('config')\n",
    "    return df"
   ]
  },
  {
   "cell_type": "code",
   "execution_count": 7,
   "id": "6b5730dd",
   "metadata": {
    "scrolled": false
   },
   "outputs": [
    {
     "data": {
      "text/html": [
       "<style type=\"text/css\">\n",
       "#T_b846b_row3_col0, #T_b846b_row3_col1, #T_b846b_row3_col2, #T_b846b_row3_col3, #T_b846b_row3_col4, #T_b846b_row3_col5 {\n",
       "  font-weight: bold;\n",
       "}\n",
       "</style>\n",
       "<table id=\"T_b846b_\">\n",
       "  <thead>\n",
       "    <tr>\n",
       "      <th class=\"blank level0\" >&nbsp;</th>\n",
       "      <th class=\"col_heading level0 col0\" >train_loss</th>\n",
       "      <th class=\"col_heading level0 col1\" >train_coverage</th>\n",
       "      <th class=\"col_heading level0 col2\" >train_jaccard</th>\n",
       "      <th class=\"col_heading level0 col3\" >val_loss</th>\n",
       "      <th class=\"col_heading level0 col4\" >val_coverage</th>\n",
       "      <th class=\"col_heading level0 col5\" >val_jaccard</th>\n",
       "    </tr>\n",
       "    <tr>\n",
       "      <th class=\"index_name level0\" >config</th>\n",
       "      <th class=\"blank col0\" >&nbsp;</th>\n",
       "      <th class=\"blank col1\" >&nbsp;</th>\n",
       "      <th class=\"blank col2\" >&nbsp;</th>\n",
       "      <th class=\"blank col3\" >&nbsp;</th>\n",
       "      <th class=\"blank col4\" >&nbsp;</th>\n",
       "      <th class=\"blank col5\" >&nbsp;</th>\n",
       "    </tr>\n",
       "  </thead>\n",
       "  <tbody>\n",
       "    <tr>\n",
       "      <th id=\"T_b846b_level0_row0\" class=\"row_heading level0 row0\" >experiments/test_flickr_vgg/attention_False_axiom_order_original_batch_norm_False_dropout_rate_0.1_embedding_size_50_learning_rate_0.001_model_type_inject_no_dense_units_512_no_rnn_units_32_normalize_True_rnn_type_lstm_stateful_False</th>\n",
       "      <td id=\"T_b846b_row0_col0\" class=\"data row0 col0\" >1.781876</td>\n",
       "      <td id=\"T_b846b_row0_col1\" class=\"data row0 col1\" >0.001245</td>\n",
       "      <td id=\"T_b846b_row0_col2\" class=\"data row0 col2\" >0.001245</td>\n",
       "      <td id=\"T_b846b_row0_col3\" class=\"data row0 col3\" >1.955497</td>\n",
       "      <td id=\"T_b846b_row0_col4\" class=\"data row0 col4\" >0.001128</td>\n",
       "      <td id=\"T_b846b_row0_col5\" class=\"data row0 col5\" >0.001128</td>\n",
       "    </tr>\n",
       "    <tr>\n",
       "      <th id=\"T_b846b_level0_row1\" class=\"row_heading level0 row1\" >experiments/test_flickr_vgg/attention_True_axiom_order_original_batch_norm_False_dropout_rate_0.1_embedding_size_50_learning_rate_0.001_model_type_inject_no_dense_units_512_no_rnn_units_32_normalize_True_rnn_type_lstm_stateful_True</th>\n",
       "      <td id=\"T_b846b_row1_col0\" class=\"data row1 col0\" >1.892446</td>\n",
       "      <td id=\"T_b846b_row1_col1\" class=\"data row1 col1\" >0.020951</td>\n",
       "      <td id=\"T_b846b_row1_col2\" class=\"data row1 col2\" >0.020951</td>\n",
       "      <td id=\"T_b846b_row1_col3\" class=\"data row1 col3\" >2.007438</td>\n",
       "      <td id=\"T_b846b_row1_col4\" class=\"data row1 col4\" >0.021749</td>\n",
       "      <td id=\"T_b846b_row1_col5\" class=\"data row1 col5\" >0.021749</td>\n",
       "    </tr>\n",
       "    <tr>\n",
       "      <th id=\"T_b846b_level0_row2\" class=\"row_heading level0 row2\" >experiments/test_flickr_vgg/attention_True_axiom_order_original_batch_norm_False_dropout_rate_0.1_embedding_size_50_learning_rate_0.001_model_type_inject_no_dense_units_512_no_rnn_units_32_normalize_True_rnn_type_lstm_stateful_False</th>\n",
       "      <td id=\"T_b846b_row2_col0\" class=\"data row2 col0\" >1.931794</td>\n",
       "      <td id=\"T_b846b_row2_col1\" class=\"data row2 col1\" >0.000000</td>\n",
       "      <td id=\"T_b846b_row2_col2\" class=\"data row2 col2\" >0.000000</td>\n",
       "      <td id=\"T_b846b_row2_col3\" class=\"data row2 col3\" >2.026790</td>\n",
       "      <td id=\"T_b846b_row2_col4\" class=\"data row2 col4\" >0.000000</td>\n",
       "      <td id=\"T_b846b_row2_col5\" class=\"data row2 col5\" >0.000000</td>\n",
       "    </tr>\n",
       "    <tr>\n",
       "      <th id=\"T_b846b_level0_row3\" class=\"row_heading level0 row3\" >experiments/test_flickr_vgg/attention_False_axiom_order_original_batch_norm_False_dropout_rate_0.1_embedding_size_50_learning_rate_0.001_model_type_inject_no_dense_units_512_no_rnn_units_32_normalize_True_rnn_type_lstm_stateful_True</th>\n",
       "      <td id=\"T_b846b_row3_col0\" class=\"data row3 col0\" >1.206134</td>\n",
       "      <td id=\"T_b846b_row3_col1\" class=\"data row3 col1\" >0.243456</td>\n",
       "      <td id=\"T_b846b_row3_col2\" class=\"data row3 col2\" >0.185719</td>\n",
       "      <td id=\"T_b846b_row3_col3\" class=\"data row3 col3\" >1.735372</td>\n",
       "      <td id=\"T_b846b_row3_col4\" class=\"data row3 col4\" >0.194871</td>\n",
       "      <td id=\"T_b846b_row3_col5\" class=\"data row3 col5\" >0.144410</td>\n",
       "    </tr>\n",
       "  </tbody>\n",
       "</table>\n"
      ],
      "text/plain": [
       "<pandas.io.formats.style.Styler at 0x7f5a1e22cfd0>"
      ]
     },
     "execution_count": 7,
     "metadata": {},
     "output_type": "execute_result"
    }
   ],
   "source": [
    "df = create_df()\n",
    "max_columns = [ty + '_' + mt for ty, mt in itertools.product(*[types, max_tags])]\n",
    "max_columns = [col for col in max_columns if col in df.columns]\n",
    "min_columns = [ty + '_' + mt for ty, mt in itertools.product(*[types, min_tags])]\n",
    "min_columns = [col for col in min_columns if col in df.columns]\n",
    "\n",
    "df = markdown_highlight(df)\n",
    "df"
   ]
  },
  {
   "cell_type": "code",
   "execution_count": 8,
   "id": "b48f1387",
   "metadata": {},
   "outputs": [
    {
     "name": "stdout",
     "output_type": "stream",
     "text": [
      "['train_loss', 'train_coverage', 'train_jaccard', 'val_loss', 'val_coverage', 'val_jaccard']\n"
     ]
    }
   ],
   "source": [
    "print(list(df.columns))"
   ]
  },
  {
   "cell_type": "code",
   "execution_count": null,
   "id": "f344168a",
   "metadata": {},
   "outputs": [],
   "source": []
  },
  {
   "cell_type": "code",
   "execution_count": null,
   "id": "c7a4dbc0",
   "metadata": {},
   "outputs": [],
   "source": []
  },
  {
   "cell_type": "code",
   "execution_count": null,
   "id": "5c30f91b",
   "metadata": {},
   "outputs": [],
   "source": []
  },
  {
   "cell_type": "code",
   "execution_count": null,
   "id": "bd279be7",
   "metadata": {},
   "outputs": [],
   "source": []
  },
  {
   "cell_type": "code",
   "execution_count": null,
   "id": "d019557c",
   "metadata": {},
   "outputs": [],
   "source": []
  },
  {
   "cell_type": "code",
   "execution_count": null,
   "id": "b23f878b",
   "metadata": {},
   "outputs": [],
   "source": []
  },
  {
   "cell_type": "code",
   "execution_count": null,
   "id": "35b28b5e",
   "metadata": {},
   "outputs": [],
   "source": []
  },
  {
   "cell_type": "code",
   "execution_count": null,
   "id": "f666a228",
   "metadata": {},
   "outputs": [],
   "source": []
  },
  {
   "cell_type": "code",
   "execution_count": null,
   "id": "b9c7ef77",
   "metadata": {},
   "outputs": [],
   "source": []
  },
  {
   "cell_type": "code",
   "execution_count": null,
   "id": "88710d27",
   "metadata": {},
   "outputs": [],
   "source": []
  }
 ],
 "metadata": {
  "kernelspec": {
   "display_name": "Python 3 (ipykernel)",
   "language": "python",
   "name": "python3"
  },
  "language_info": {
   "codemirror_mode": {
    "name": "ipython",
    "version": 3
   },
   "file_extension": ".py",
   "mimetype": "text/x-python",
   "name": "python",
   "nbconvert_exporter": "python",
   "pygments_lexer": "ipython3",
   "version": "3.7.5"
  }
 },
 "nbformat": 4,
 "nbformat_minor": 5
}
