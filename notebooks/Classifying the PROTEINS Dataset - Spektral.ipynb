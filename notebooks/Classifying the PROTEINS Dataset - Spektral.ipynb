{
 "cells": [
  {
   "cell_type": "code",
   "execution_count": 1,
   "id": "8533d85b",
   "metadata": {},
   "outputs": [],
   "source": [
    "# Code from https://towardsdatascience.com/classifying-the-proteins-benchmark-dataset-ec18e728a17a\n",
    "\n",
    "# Cannot extract features? https://github.com/tensorflow/tensorflow/issues/48196"
   ]
  },
  {
   "cell_type": "markdown",
   "id": "b465c975",
   "metadata": {},
   "source": [
    "\n",
    "## TODO later\n",
    "- do the pytorch_geometric version"
   ]
  },
  {
   "cell_type": "markdown",
   "id": "5dd73ac4",
   "metadata": {},
   "source": [
    "## Imports"
   ]
  },
  {
   "cell_type": "code",
   "execution_count": 2,
   "id": "c5836553",
   "metadata": {},
   "outputs": [],
   "source": [
    "from spektral.datasets import TUDataset\n",
    "from tensorflow.keras.models import Model\n",
    "from tensorflow.keras.layers import Dense, Dropout, Input\n",
    "from spektral.layers import GCNConv, GlobalSumPool\n",
    "from spektral.transforms import GCNFilter\n",
    "import numpy as np\n",
    "from spektral.data import BatchLoader\n",
    "import tensorflow as tf\n",
    "from matplotlib import pyplot as plt"
   ]
  },
  {
   "cell_type": "markdown",
   "id": "467683b8",
   "metadata": {},
   "source": [
    "## Set Eager Execution"
   ]
  },
  {
   "cell_type": "code",
   "execution_count": 3,
   "id": "2dcd499c",
   "metadata": {},
   "outputs": [],
   "source": [
    "tf.config.run_functions_eagerly(False)"
   ]
  },
  {
   "cell_type": "markdown",
   "id": "2c64d19a",
   "metadata": {},
   "source": [
    "## Import dataset"
   ]
  },
  {
   "cell_type": "code",
   "execution_count": 4,
   "id": "1ec5bf80",
   "metadata": {},
   "outputs": [
    {
     "name": "stdout",
     "output_type": "stream",
     "text": [
      "Successfully loaded PROTEINS.\n"
     ]
    }
   ],
   "source": [
    "# Spectral provides the TUDataset class, which contains benchmark datasets for graph classification\n",
    "data = TUDataset('PROTEINS')\n",
    "# Since we want to utilize the Spektral GCN layer, we want to follow the original paper for this method and perform some preprocessing:\n",
    "data.apply(GCNFilter())"
   ]
  },
  {
   "cell_type": "markdown",
   "id": "b0cf1dbf",
   "metadata": {},
   "source": [
    "# Split datasets"
   ]
  },
  {
   "cell_type": "code",
   "execution_count": 5,
   "id": "0e13892c",
   "metadata": {},
   "outputs": [
    {
     "name": "stdout",
     "output_type": "stream",
     "text": [
      "Number of graphs: 1113\n",
      "Train-test split:   0.8\n",
      "Number of training samples: 890\n",
      "Number of testing samples:  223\n"
     ]
    }
   ],
   "source": [
    "data_split = 0.8\n",
    "\n",
    "# Shuffle the data\n",
    "np.random.shuffle(data)\n",
    "split = int(data_split * len(data))\n",
    "data_train, data_test = data[:split], data[split:]\n",
    "\n",
    "# Report stats\n",
    "print(f\"Number of graphs: {data.n_graphs}\")\n",
    "print(\"Train-test split:  \", data_split)\n",
    "print(f\"Number of training samples: {data_train.n_graphs}\")\n",
    "print(f\"Number of testing samples:  {data_test.n_graphs}\")"
   ]
  },
  {
   "cell_type": "markdown",
   "id": "3631abd4",
   "metadata": {},
   "source": [
    "# Create Datasets"
   ]
  },
  {
   "cell_type": "code",
   "execution_count": 6,
   "id": "005a29f8",
   "metadata": {},
   "outputs": [],
   "source": [
    "# Here's the trick - we can't just call Keras' fit() method on this model.\n",
    "# Instead, we have to use Loaders, which Spektral walks us through. Loaders create mini-batches by iterating over the graph\n",
    "# Since we're using Spektral for an experiment, for our first trial we'll use the recommended loader in the getting started tutorial\n",
    "train_loader = BatchLoader(data_train, batch_size=32)\n",
    "test_loader = BatchLoader(data_test, batch_size=32)"
   ]
  },
  {
   "cell_type": "markdown",
   "id": "fd4e5764",
   "metadata": {},
   "source": [
    "## Define the model"
   ]
  },
  {
   "cell_type": "code",
   "execution_count": 7,
   "id": "c02409e8",
   "metadata": {},
   "outputs": [],
   "source": [
    "class ProteinsGNN(Model):\n",
    "    def __init__(self, n_hidden, n_labels):\n",
    "        super().__init__()\n",
    "        # Define our GCN layer with our n_hidden layers\n",
    "        self.graph_conv = GCNConv(n_hidden)\n",
    "        # Define our global pooling layer\n",
    "        self.pool = GlobalSumPool()\n",
    "        # Define our dropout layer\n",
    "        self.dropout = Dropout(0.2)\n",
    "        # Define our Dense layer, with softmax activation function\n",
    "        self.dense = Dense(n_labels, 'softmax')\n",
    "    \n",
    "    # Define class method to call model on input\n",
    "    def call(self, inputs):\n",
    "        out = self.graph_conv(inputs)\n",
    "        out = self.dropout(out)\n",
    "        out = self.pool(out)\n",
    "        out = self.dense(out)\n",
    "\n",
    "        return out\n",
    "\n",
    "    def embed(self, inputs):\n",
    "        out = self.graph_conv(inputs)\n",
    "        out = self.dropout(out)\n",
    "        out = self.pool(out)\n",
    "        out = self.dense(out)\n",
    "\n",
    "    \n",
    "    def build_graph(self):\n",
    "        x1 = Input(shape=(162, 4))\n",
    "        x2 = Input(shape=(162, 162))\n",
    "        return Model(inputs=[x1, x2], outputs=self.call([x1, x2]))\n"
   ]
  },
  {
   "cell_type": "markdown",
   "id": "2f0d684e",
   "metadata": {},
   "source": [
    "# Define the model"
   ]
  },
  {
   "cell_type": "code",
   "execution_count": 8,
   "id": "7ab6e2ec",
   "metadata": {},
   "outputs": [
    {
     "name": "stderr",
     "output_type": "stream",
     "text": [
      "2021-10-27 11:50:05.042290: E tensorflow/stream_executor/cuda/cuda_driver.cc:271] failed call to cuInit: CUDA_ERROR_UNKNOWN: unknown error\n",
      "2021-10-27 11:50:05.042369: I tensorflow/stream_executor/cuda/cuda_diagnostics.cc:169] retrieving CUDA diagnostic information for host: kontor\n",
      "2021-10-27 11:50:05.042376: I tensorflow/stream_executor/cuda/cuda_diagnostics.cc:176] hostname: kontor\n",
      "2021-10-27 11:50:05.042677: I tensorflow/stream_executor/cuda/cuda_diagnostics.cc:200] libcuda reported version is: 470.63.1\n",
      "2021-10-27 11:50:05.042720: I tensorflow/stream_executor/cuda/cuda_diagnostics.cc:204] kernel reported version is: 470.63.1\n",
      "2021-10-27 11:50:05.042726: I tensorflow/stream_executor/cuda/cuda_diagnostics.cc:310] kernel version seems to match DSO: 470.63.1\n",
      "2021-10-27 11:50:05.043120: I tensorflow/core/platform/cpu_feature_guard.cc:142] This TensorFlow binary is optimized with oneAPI Deep Neural Network Library (oneDNN) to use the following CPU instructions in performance-critical operations:  AVX2 AVX512F FMA\n",
      "To enable them in other operations, rebuild TensorFlow with the appropriate compiler flags.\n"
     ]
    },
    {
     "name": "stdout",
     "output_type": "stream",
     "text": [
      "Model: \"model\"\n",
      "__________________________________________________________________________________________________\n",
      "Layer (type)                    Output Shape         Param #     Connected to                     \n",
      "==================================================================================================\n",
      "input_1 (InputLayer)            [(None, 162, 4)]     0                                            \n",
      "__________________________________________________________________________________________________\n",
      "input_2 (InputLayer)            [(None, 162, 162)]   0                                            \n",
      "__________________________________________________________________________________________________\n",
      "gcn_conv (GCNConv)              (None, 162, 32)      160         input_1[0][0]                    \n",
      "                                                                 input_2[0][0]                    \n",
      "__________________________________________________________________________________________________\n",
      "dropout (Dropout)               (None, 162, 32)      0           gcn_conv[0][0]                   \n",
      "__________________________________________________________________________________________________\n",
      "global_sum_pool (GlobalSumPool) (None, 32)           0           dropout[0][0]                    \n",
      "__________________________________________________________________________________________________\n",
      "dense (Dense)                   (None, 2)            66          global_sum_pool[0][0]            \n",
      "==================================================================================================\n",
      "Total params: 226\n",
      "Trainable params: 226\n",
      "Non-trainable params: 0\n",
      "__________________________________________________________________________________________________\n",
      "None\n"
     ]
    }
   ],
   "source": [
    "# Instantiate our model for training\n",
    "model = ProteinsGNN(32, data.n_labels)\n",
    "\n",
    "\n",
    "# Compile model with our optimizer (adam) and loss function\n",
    "model.compile(optimizer='adam', \n",
    "              loss='categorical_crossentropy',\n",
    "              metrics='accuracy')\n",
    "\n",
    "# Visualize model\n",
    "print(model.build_graph().summary())"
   ]
  },
  {
   "cell_type": "markdown",
   "id": "05c26768",
   "metadata": {},
   "source": [
    "## Train"
   ]
  },
  {
   "cell_type": "code",
   "execution_count": 9,
   "id": "a5acaebc",
   "metadata": {
    "scrolled": true
   },
   "outputs": [
    {
     "name": "stdout",
     "output_type": "stream",
     "text": [
      "Epoch 1/20\n"
     ]
    },
    {
     "name": "stderr",
     "output_type": "stream",
     "text": [
      "2021-10-27 11:50:05.834709: I tensorflow/compiler/mlir/mlir_graph_optimization_pass.cc:185] None of the MLIR Optimization Passes are enabled (registered 2)\n"
     ]
    },
    {
     "name": "stdout",
     "output_type": "stream",
     "text": [
      "28/28 [==============================] - 1s 12ms/step - loss: 9.4149 - accuracy: 0.5528\n",
      "Epoch 2/20\n",
      "28/28 [==============================] - 0s 12ms/step - loss: 5.2134 - accuracy: 0.6045\n",
      "Epoch 3/20\n",
      "28/28 [==============================] - 0s 10ms/step - loss: 4.9051 - accuracy: 0.5730\n",
      "Epoch 4/20\n",
      "28/28 [==============================] - 0s 11ms/step - loss: 4.8003 - accuracy: 0.5955\n",
      "Epoch 5/20\n",
      "28/28 [==============================] - 0s 11ms/step - loss: 5.4953 - accuracy: 0.5787\n",
      "Epoch 6/20\n",
      "28/28 [==============================] - 0s 10ms/step - loss: 4.1261 - accuracy: 0.5888\n",
      "Epoch 7/20\n",
      "28/28 [==============================] - 0s 11ms/step - loss: 3.9235 - accuracy: 0.6494\n",
      "Epoch 8/20\n",
      "28/28 [==============================] - 0s 12ms/step - loss: 4.4289 - accuracy: 0.5843\n",
      "Epoch 9/20\n",
      "28/28 [==============================] - 0s 10ms/step - loss: 4.5951 - accuracy: 0.5719\n",
      "Epoch 10/20\n",
      "28/28 [==============================] - 0s 11ms/step - loss: 4.7595 - accuracy: 0.6011\n",
      "Epoch 11/20\n",
      "28/28 [==============================] - 0s 10ms/step - loss: 4.4095 - accuracy: 0.6022\n",
      "Epoch 12/20\n",
      "28/28 [==============================] - 0s 11ms/step - loss: 3.8354 - accuracy: 0.5854\n",
      "Epoch 13/20\n",
      "28/28 [==============================] - 0s 11ms/step - loss: 5.1478 - accuracy: 0.6146\n",
      "Epoch 14/20\n",
      "28/28 [==============================] - 0s 11ms/step - loss: 4.3309 - accuracy: 0.5618\n",
      "Epoch 15/20\n",
      "28/28 [==============================] - 0s 11ms/step - loss: 4.2263 - accuracy: 0.6000\n",
      "Epoch 16/20\n",
      "28/28 [==============================] - 0s 11ms/step - loss: 4.2144 - accuracy: 0.6079\n",
      "Epoch 17/20\n",
      "28/28 [==============================] - 0s 10ms/step - loss: 3.8591 - accuracy: 0.5978\n",
      "Epoch 18/20\n",
      "28/28 [==============================] - 0s 11ms/step - loss: 3.8755 - accuracy: 0.5989\n",
      "Epoch 19/20\n",
      "28/28 [==============================] - 0s 10ms/step - loss: 4.1830 - accuracy: 0.6191\n",
      "Epoch 20/20\n",
      "28/28 [==============================] - 0s 11ms/step - loss: 3.6993 - accuracy: 0.6360\n"
     ]
    },
    {
     "data": {
      "text/plain": [
       "<keras.callbacks.History at 0x7f5a654700d0>"
      ]
     },
     "execution_count": 9,
     "metadata": {},
     "output_type": "execute_result"
    }
   ],
   "source": [
    "model.fit(train_loader.load(), steps_per_epoch=train_loader.steps_per_epoch, epochs=20)"
   ]
  },
  {
   "cell_type": "markdown",
   "id": "1d05e0fa",
   "metadata": {},
   "source": [
    "## Evaluate"
   ]
  },
  {
   "cell_type": "code",
   "execution_count": 10,
   "id": "fe2f704c",
   "metadata": {
    "scrolled": true
   },
   "outputs": [
    {
     "name": "stdout",
     "output_type": "stream",
     "text": [
      "7/7 [==============================] - 0s 6ms/step - loss: 4.7752 - accuracy: 0.5605\n",
      "Test loss: 4.775246620178223\n",
      "Test acc:  0.560538113117218\n"
     ]
    }
   ],
   "source": [
    "loss, acc = model.evaluate(test_loader.load(), steps=test_loader.steps_per_epoch)\n",
    "print('Test loss: {}'.format(loss))\n",
    "print('Test acc:  {}'.format(acc))"
   ]
  },
  {
   "cell_type": "markdown",
   "id": "5e865bb7",
   "metadata": {},
   "source": [
    "# Plot model predictions (cannot access intermedeate layers)"
   ]
  },
  {
   "cell_type": "markdown",
   "id": "d843a85b",
   "metadata": {},
   "source": [
    "### Obtain the list of labels"
   ]
  },
  {
   "cell_type": "code",
   "execution_count": 11,
   "id": "f19eb44b",
   "metadata": {},
   "outputs": [],
   "source": [
    "labels = [np.argmax(d.y) for d in data]"
   ]
  },
  {
   "cell_type": "markdown",
   "id": "75b58453",
   "metadata": {},
   "source": [
    "### Prepare dataset for all the data"
   ]
  },
  {
   "cell_type": "code",
   "execution_count": 12,
   "id": "634a9454",
   "metadata": {},
   "outputs": [],
   "source": [
    "data_loader = BatchLoader(data, batch_size=32)"
   ]
  },
  {
   "cell_type": "markdown",
   "id": "7260f2c2",
   "metadata": {},
   "source": [
    "## Plot"
   ]
  },
  {
   "cell_type": "code",
   "execution_count": 13,
   "id": "02e865c7",
   "metadata": {},
   "outputs": [
    {
     "data": {
      "text/plain": [
       "<matplotlib.collections.PathCollection at 0x7f5a64c292d0>"
      ]
     },
     "execution_count": 13,
     "metadata": {},
     "output_type": "execute_result"
    },
    {
     "data": {
      "image/png": "[encoded data removed]",
      "text/plain": [
       "<Figure size 432x288 with 1 Axes>"
      ]
     },
     "metadata": {
      "needs_background": "light"
     },
     "output_type": "display_data"
    }
   ],
   "source": [
    "predictions = model.predict(data_loader.load(), steps=data_loader.steps_per_epoch)\n",
    "plt.scatter(predictions[:, 0], predictions[:, 1], c=labels, cmap=\"jet\", alpha=0.4)"
   ]
  },
  {
   "cell_type": "code",
   "execution_count": null,
   "id": "89ccfe61",
   "metadata": {},
   "outputs": [],
   "source": []
  },
  {
   "cell_type": "code",
   "execution_count": null,
   "id": "f5ba8cc0",
   "metadata": {},
   "outputs": [],
   "source": []
  }
 ],
 "metadata": {
  "kernelspec": {
   "display_name": "Python 3 (ipykernel)",
   "language": "python",
   "name": "python3"
  },
  "language_info": {
   "codemirror_mode": {
    "name": "ipython",
    "version": 3
   },
   "file_extension": ".py",
   "mimetype": "text/x-python",
   "name": "python",
   "nbconvert_exporter": "python",
   "pygments_lexer": "ipython3",
   "version": "3.7.5"
  }
 },
 "nbformat": 4,
 "nbformat_minor": 5
}
