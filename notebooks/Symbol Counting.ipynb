{
 "cells": [
  {
   "cell_type": "markdown",
   "id": "30ddf910",
   "metadata": {},
   "source": [
    "# Symbol Counting and Distribution"
   ]
  },
  {
   "cell_type": "markdown",
   "id": "1be392eb",
   "metadata": {},
   "source": [
    "For each problem, we have a list which stores the symbols of each clause as a set.\n",
    "Each problem is stored as a dict entry"
   ]
  },
  {
   "cell_type": "code",
   "execution_count": 1,
   "id": "78dc2b00",
   "metadata": {},
   "outputs": [],
   "source": [
    "import re\n",
    "import glob\n",
    "from pathlib import Path\n",
    "import numpy as np\n",
    "from collections import Counter\n",
    "import seaborn as sns\n",
    "from itertools import chain"
   ]
  },
  {
   "cell_type": "code",
   "execution_count": 2,
   "id": "87318a0c",
   "metadata": {},
   "outputs": [],
   "source": [
    "SYMBOL_RE = b\"\\w\\w*\\(\"\n",
    "\n",
    "def read_problem(problem_path):\n",
    "    \n",
    "    with open(problem_path, 'rb') as f:\n",
    "        problem = f.readlines()\n",
    "    return problem\n",
    "\n",
    "def get_problem_symbols(problem):\n",
    "    symbols = []\n",
    "    for formula in problem:\n",
    "        # Get all symbols but remove the fof definition\n",
    "        res = re.findall(SYMBOL_RE, formula)[1:]\n",
    "        # Remove trailing parenthasis\n",
    "        res = set(r[:-1] for r in res)\n",
    "        symbols.append(res)\n",
    "    return symbols"
   ]
  },
  {
   "cell_type": "markdown",
   "id": "106d1e0a",
   "metadata": {},
   "source": [
    "# Load symbols"
   ]
  },
  {
   "cell_type": "code",
   "execution_count": 3,
   "id": "e07c0961",
   "metadata": {},
   "outputs": [
    {
     "data": {
      "text/plain": [
       "32532"
      ]
     },
     "execution_count": 3,
     "metadata": {},
     "output_type": "execute_result"
    }
   ],
   "source": [
    "paths = glob.glob('/home/eholden/gnn-entailment-caption/nndata/*')\n",
    "len(paths)"
   ]
  },
  {
   "cell_type": "code",
   "execution_count": 4,
   "id": "6cadffd6",
   "metadata": {},
   "outputs": [
    {
     "name": "stdout",
     "output_type": "stream",
     "text": [
      "CPU times: user 1 µs, sys: 1e+03 ns, total: 2 µs\n",
      "Wall time: 3.1 µs\n"
     ]
    }
   ],
   "source": [
    "%time\n",
    "d = {}\n",
    "for path in paths:\n",
    "    problem = read_problem(path)\n",
    "    if \"example_\" not in path:\n",
    "        d[Path(path).stem] = get_problem_symbols(problem)"
   ]
  },
  {
   "cell_type": "markdown",
   "id": "a9d47247",
   "metadata": {},
   "source": [
    "##  Problem stats\n"
   ]
  },
  {
   "cell_type": "code",
   "execution_count": 5,
   "id": "db78b867",
   "metadata": {},
   "outputs": [
    {
     "name": "stdout",
     "output_type": "stream",
     "text": [
      "Average number of clauses per problem 17.07\n",
      "Histogram of number of clauses per problem\n"
     ]
    },
    {
     "data": {
      "text/plain": [
       "<AxesSubplot:ylabel='Count'>"
      ]
     },
     "execution_count": 5,
     "metadata": {},
     "output_type": "execute_result"
    },
    {
     "data": {
      "image/png": "[encoded data removed]",
      "text/plain": [
       "<Figure size 432x288 with 1 Axes>"
      ]
     },
     "metadata": {
      "needs_background": "light"
     },
     "output_type": "display_data"
    }
   ],
   "source": [
    "\n",
    "no_formulae = [len(f) for f in d.values()]\n",
    "print(f\"Average number of clauses per problem {np.average(no_formulae):0.2f}\")\n",
    "print(\"Histogram of number of clauses per problem\")\n",
    "sns.histplot(no_formulae)"
   ]
  },
  {
   "cell_type": "code",
   "execution_count": 6,
   "id": "fde07b91",
   "metadata": {},
   "outputs": [
    {
     "name": "stdout",
     "output_type": "stream",
     "text": [
      "CPU times: user 4 µs, sys: 1 µs, total: 5 µs\n",
      "Wall time: 7.63 µs\n",
      "Number of unqiue symbols: 12506\n",
      "Average number of unique symbols per problem: 24.85\n",
      "Histogram of number of unique symbols per problem\n"
     ]
    },
    {
     "data": {
      "text/plain": [
       "<AxesSubplot:ylabel='Count'>"
      ]
     },
     "execution_count": 6,
     "metadata": {},
     "output_type": "execute_result"
    },
    {
     "data": {
      "image/png": "[encoded data removed]",
      "text/plain": [
       "<Figure size 432x288 with 1 Axes>"
      ]
     },
     "metadata": {
      "needs_background": "light"
     },
     "output_type": "display_data"
    }
   ],
   "source": [
    "%time\n",
    "uq_symb = []\n",
    "for problem in d.values():\n",
    "    f = set()\n",
    "    for formula in problem:\n",
    "        f.update(formula)\n",
    "    uq_symb.append(f)\n",
    "    \n",
    "print(f\"Number of unqiue symbols: {len(set(chain(*uq_symb)))}\")\n",
    "print(f\"Average number of unique symbols per problem: {np.average([len(symb) for symb in uq_symb]):0.2f}\")\n",
    "print(\"Histogram of number of unique symbols per problem\")\n",
    "sns.histplot([len(symb) for symb in uq_symb])"
   ]
  },
  {
   "cell_type": "markdown",
   "id": "e9aad4c3",
   "metadata": {},
   "source": [
    "## Clause stats\n"
   ]
  },
  {
   "cell_type": "code",
   "execution_count": 7,
   "id": "666ff3d5",
   "metadata": {},
   "outputs": [
    {
     "name": "stdout",
     "output_type": "stream",
     "text": [
      "CPU times: user 1e+03 ns, sys: 1e+03 ns, total: 2 µs\n",
      "Wall time: 3.1 µs\n",
      "Average number of symbols per clause 7.09\n"
     ]
    },
    {
     "data": {
      "text/plain": [
       "<AxesSubplot:ylabel='Count'>"
      ]
     },
     "execution_count": 7,
     "metadata": {},
     "output_type": "execute_result"
    },
    {
     "data": {
      "image/png": "[encoded data removed]",
      "text/plain": [
       "<Figure size 432x288 with 1 Axes>"
      ]
     },
     "metadata": {
      "needs_background": "light"
     },
     "output_type": "display_data"
    }
   ],
   "source": [
    "%time\n",
    "no_symbol_clause = []\n",
    "for problem in d.values():\n",
    "    no_symbol_clause.extend([len(f) for f in problem])\n",
    "    \n",
    "print(f\"Average number of symbols per clause {np.average(no_symbol_clause):.2f}\")\n",
    "sns.histplot(no_symbol_clause)"
   ]
  },
  {
   "cell_type": "markdown",
   "id": "5fa936d7",
   "metadata": {},
   "source": [
    "# Ratio of unique symbols to clauses in a problem"
   ]
  },
  {
   "cell_type": "code",
   "execution_count": 8,
   "id": "ee1b4bfe",
   "metadata": {},
   "outputs": [
    {
     "name": "stdout",
     "output_type": "stream",
     "text": [
      "Average ratio: 1.76\n"
     ]
    },
    {
     "data": {
      "text/plain": [
       "<AxesSubplot:ylabel='Count'>"
      ]
     },
     "execution_count": 8,
     "metadata": {},
     "output_type": "execute_result"
    },
    {
     "data": {
      "image/png": "[encoded data removed]",
      "text/plain": [
       "<Figure size 432x288 with 1 Axes>"
      ]
     },
     "metadata": {
      "needs_background": "light"
     },
     "output_type": "display_data"
    }
   ],
   "source": [
    "ratio = []\n",
    "for unique, problem in zip(uq_symb, d.values()):\n",
    "    ratio += [len(unique) / len(problem)]\n",
    "    \n",
    "print(f\"Average ratio: {np.average(ratio):.2f}\")\n",
    "sns.histplot(ratio)"
   ]
  },
  {
   "cell_type": "markdown",
   "id": "604477a5",
   "metadata": {},
   "source": [
    "# Top axioms"
   ]
  },
  {
   "cell_type": "code",
   "execution_count": 9,
   "id": "4e0eed39",
   "metadata": {},
   "outputs": [
    {
     "name": "stdout",
     "output_type": "stream",
     "text": [
      "CPU times: user 1e+03 ns, sys: 1 µs, total: 2 µs\n",
      "Wall time: 3.58 µs\n"
     ]
    }
   ],
   "source": [
    "%time\n",
    "all_symbols = []\n",
    "for problem in d.values():\n",
    "    for f in problem:\n",
    "        all_symbols.extend(f)\n",
    "count = Counter(all_symbols)\n",
    "del all_symbols"
   ]
  },
  {
   "cell_type": "code",
   "execution_count": 10,
   "id": "26f515c2",
   "metadata": {},
   "outputs": [
    {
     "name": "stdout",
     "output_type": "stream",
     "text": [
      "Top 15 most used symbols:\n"
     ]
    },
    {
     "data": {
      "text/plain": [
       "[(b'm1_subset_1', 279441),\n",
       " (b'u1_struct_0', 157352),\n",
       " (b'k1_zfmisc_1', 156133),\n",
       " (b'v1_funct_1', 124091),\n",
       " (b'v2_struct_0', 121346),\n",
       " (b'k2_zfmisc_1', 93209),\n",
       " (b'v1_xboole_0', 90591),\n",
       " (b'r2_hidden', 82217),\n",
       " (b'v1_relat_1', 65675),\n",
       " (b'v1_funct_2', 58464),\n",
       " (b'r1_xxreal_0', 47712),\n",
       " (b'v7_ordinal1', 42319),\n",
       " (b'r1_tarski', 38252),\n",
       " (b'v4_rlvect_1', 37801),\n",
       " (b'v3_rlvect_1', 37693)]"
      ]
     },
     "execution_count": 10,
     "metadata": {},
     "output_type": "execute_result"
    }
   ],
   "source": [
    "n = 15\n",
    "print(f\"Top {n} most used symbols:\")\n",
    "count.most_common(n)"
   ]
  },
  {
   "cell_type": "markdown",
   "id": "eec31e49",
   "metadata": {},
   "source": [
    "## How many clauses share at least one symbol with the conjecture?\n",
    "\n"
   ]
  },
  {
   "cell_type": "code",
   "execution_count": 11,
   "id": "00d3b682",
   "metadata": {},
   "outputs": [
    {
     "name": "stdout",
     "output_type": "stream",
     "text": [
      "CPU times: user 1 µs, sys: 0 ns, total: 1 µs\n",
      "Wall time: 3.34 µs\n",
      "Average conjecture symbol occurence ratio: 0.88\n"
     ]
    },
    {
     "data": {
      "text/plain": [
       "<AxesSubplot:ylabel='Count'>"
      ]
     },
     "execution_count": 11,
     "metadata": {},
     "output_type": "execute_result"
    },
    {
     "data": {
      "image/png": "[encoded data removed]",
      "text/plain": [
       "<Figure size 432x288 with 1 Axes>"
      ]
     },
     "metadata": {
      "needs_background": "light"
     },
     "output_type": "display_data"
    }
   ],
   "source": [
    "%time\n",
    "frac = []\n",
    "for problem in d.values():\n",
    "    conj = problem[0]\n",
    "    match = [1 for f in problem[1:] if len(conj.intersection(f)) > 0]\n",
    "    frac += [len(match) / (len(problem) - 1)]\n",
    "\n",
    "print(f\"Average conjecture symbol occurence ratio: {np.average(frac):.2f}\")\n",
    "sns.histplot(frac)"
   ]
  },
  {
   "cell_type": "code",
   "execution_count": null,
   "id": "25e2cff5",
   "metadata": {},
   "outputs": [],
   "source": []
  }
 ],
 "metadata": {
  "kernelspec": {
   "display_name": "Python 3 (ipykernel)",
   "language": "python",
   "name": "python3"
  },
  "language_info": {
   "codemirror_mode": {
    "name": "ipython",
    "version": 3
   },
   "file_extension": ".py",
   "mimetype": "text/x-python",
   "name": "python",
   "nbconvert_exporter": "python",
   "pygments_lexer": "ipython3",
   "version": "3.7.5"
  }
 },
 "nbformat": 4,
 "nbformat_minor": 5
}
